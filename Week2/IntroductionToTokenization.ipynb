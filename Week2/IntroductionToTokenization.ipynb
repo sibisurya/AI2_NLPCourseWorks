{
 "cells": [
  {
   "cell_type": "markdown",
   "metadata": {},
   "source": [
    "# Tokenization"
   ]
  },
  {
   "cell_type": "code",
   "execution_count": 1,
   "metadata": {},
   "outputs": [],
   "source": [
    "#Install Spacy\n",
    "#https://rpubs.com/mohammadshadan/install_spacy"
   ]
  },
  {
   "cell_type": "code",
   "execution_count": 2,
   "metadata": {},
   "outputs": [],
   "source": [
    "#importing spaCY\n",
    "import spacy\n",
    "\n",
    "#Create and instance of spacy and call it \"nlp\"\n",
    "nlp=spacy.load(\"en_core_web_sm\")"
   ]
  },
  {
   "cell_type": "code",
   "execution_count": 3,
   "metadata": {},
   "outputs": [],
   "source": [
    "sentence='\"Mr. O\\'Neill thinks that the boys\\' stories about Chile\\'s capital aren\\'t amusing.\"'"
   ]
  },
  {
   "cell_type": "code",
   "execution_count": 4,
   "metadata": {
    "scrolled": true
   },
   "outputs": [
    {
     "name": "stdout",
     "output_type": "stream",
     "text": [
      "\"Mr. O'Neill thinks that the boys' stories about Chile's capital aren't amusing.\"\n"
     ]
    }
   ],
   "source": [
    "print (sentence)"
   ]
  },
  {
   "cell_type": "code",
   "execution_count": 5,
   "metadata": {},
   "outputs": [],
   "source": [
    "#Tokenizing the sentence\n",
    "doc_object= nlp(sentence)"
   ]
  },
  {
   "cell_type": "code",
   "execution_count": 7,
   "metadata": {},
   "outputs": [
    {
     "name": "stdout",
     "output_type": "stream",
     "text": [
      "\"\n",
      "Mr.\n",
      "O'Neill\n",
      "thinks\n",
      "that\n",
      "the\n",
      "boys\n",
      "'\n",
      "stories\n",
      "about\n",
      "Chile\n",
      "'s\n",
      "capital\n",
      "are\n",
      "n't\n",
      "amusing\n",
      ".\n",
      "\"\n"
     ]
    }
   ],
   "source": [
    "#Print all the tokens \n",
    "for token in doc_object:\n",
    "    print(token.text)"
   ]
  },
  {
   "cell_type": "code",
   "execution_count": 8,
   "metadata": {},
   "outputs": [
    {
     "name": "stdout",
     "output_type": "stream",
     "text": [
      "\" PUNCT | Mr. PROPN | O'Neill PROPN | thinks VERB | that ADP | the DET | boys NOUN | ' PART | stories NOUN | about ADP | Chile PROPN | 's PART | capital NOUN | are VERB | n't ADV | amusing ADJ | . PUNCT | \" PUNCT | "
     ]
    }
   ],
   "source": [
    "#Printing the type of word\n",
    "for token in doc_object:\n",
    "    print(token.text,token.pos_,end=\" | \")"
   ]
  },
  {
   "cell_type": "code",
   "execution_count": 9,
   "metadata": {},
   "outputs": [],
   "source": [
    "#Another sentence to recognize the time & web address\n",
    "sentence=\"It is best to access our website from 9 a.m. to 1 p.m. every weekend. The address is www.mywebsite.ie.\""
   ]
  },
  {
   "cell_type": "code",
   "execution_count": 10,
   "metadata": {},
   "outputs": [
    {
     "name": "stdout",
     "output_type": "stream",
     "text": [
      "It\n",
      "is\n",
      "best\n",
      "to\n",
      "access\n",
      "our\n",
      "website\n",
      "from\n",
      "9\n",
      "a.m.\n",
      "to\n",
      "1\n",
      "p.m.\n",
      "every\n",
      "weekend\n",
      ".\n",
      "The\n",
      "address\n",
      "is\n",
      "www.mywebsite.ie\n",
      ".\n"
     ]
    }
   ],
   "source": [
    "# Create doc object\n",
    "doc_object=nlp(sentence)\n",
    "#Show tokens from doc_object\n",
    "for token in doc_object:\n",
    "    print(token.text)"
   ]
  },
  {
   "cell_type": "code",
   "execution_count": 22,
   "metadata": {},
   "outputs": [],
   "source": [
    "#Another sentence to recognize unit of measurement & money\n",
    "sentence=\"I live about 20km from here.  Taxi will cost around $50. \""
   ]
  },
  {
   "cell_type": "code",
   "execution_count": 23,
   "metadata": {},
   "outputs": [
    {
     "name": "stdout",
     "output_type": "stream",
     "text": [
      "I\n",
      "live\n",
      "about\n",
      "20\n",
      "km\n",
      "from\n",
      "here\n",
      ".\n",
      " \n",
      "Taxi\n",
      "will\n",
      "cost\n",
      "around\n",
      "$\n",
      "50\n",
      ".\n"
     ]
    }
   ],
   "source": [
    "# Create doc object\n",
    "doc_object=nlp(sentence)\n",
    "#Show tokens from doc_object\n",
    "for token in doc_object:\n",
    "    print(token.text)"
   ]
  },
  {
   "cell_type": "code",
   "execution_count": 24,
   "metadata": {},
   "outputs": [
    {
     "data": {
      "text/plain": [
       "16"
      ]
     },
     "execution_count": 24,
     "metadata": {},
     "output_type": "execute_result"
    }
   ],
   "source": [
    "#No of Tokens in doc_object\n",
    "len(doc_object)"
   ]
  },
  {
   "cell_type": "code",
   "execution_count": 25,
   "metadata": {},
   "outputs": [
    {
     "data": {
      "text/plain": [
       "57852"
      ]
     },
     "execution_count": 25,
     "metadata": {},
     "output_type": "execute_result"
    }
   ],
   "source": [
    "#No of Vocabularies in doc_object\n",
    "len(doc_object.vocab)"
   ]
  },
  {
   "cell_type": "code",
   "execution_count": 29,
   "metadata": {},
   "outputs": [
    {
     "name": "stdout",
     "output_type": "stream",
     "text": [
      "I\n",
      "really\n",
      "like\n",
      "working\n",
      "with\n",
      "words\n",
      "!\n"
     ]
    }
   ],
   "source": [
    "#One line\n",
    "doc_object=nlp(\"I really like working with words!\")\n",
    "\n",
    "#Print each token\n",
    "for token in doc_object:\n",
    "    print(token)"
   ]
  },
  {
   "cell_type": "code",
   "execution_count": 31,
   "metadata": {},
   "outputs": [
    {
     "data": {
      "text/plain": [
       "I"
      ]
     },
     "execution_count": 31,
     "metadata": {},
     "output_type": "execute_result"
    }
   ],
   "source": [
    "#Extract the first token\n",
    "doc_object[0]"
   ]
  },
  {
   "cell_type": "code",
   "execution_count": 34,
   "metadata": {},
   "outputs": [
    {
     "data": {
      "text/plain": [
       "like working with"
      ]
     },
     "execution_count": 34,
     "metadata": {},
     "output_type": "execute_result"
    }
   ],
   "source": [
    "#Retrieve the 3rd to 6th token\n",
    "doc_object[2:5]"
   ]
  },
  {
   "cell_type": "code",
   "execution_count": 41,
   "metadata": {},
   "outputs": [
    {
     "data": {
      "text/plain": [
       "words!"
      ]
     },
     "execution_count": 41,
     "metadata": {},
     "output_type": "execute_result"
    }
   ],
   "source": [
    "#Retrieve last 2 token\n",
    "doc_object[-2:]"
   ]
  }
 ],
 "metadata": {
  "kernelspec": {
   "display_name": "Python 3",
   "language": "python",
   "name": "python3"
  },
  "language_info": {
   "codemirror_mode": {
    "name": "ipython",
    "version": 3
   },
   "file_extension": ".py",
   "mimetype": "text/x-python",
   "name": "python",
   "nbconvert_exporter": "python",
   "pygments_lexer": "ipython3",
   "version": "3.7.6"
  }
 },
 "nbformat": 4,
 "nbformat_minor": 4
}
