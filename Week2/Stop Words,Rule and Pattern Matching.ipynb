{
 "cells": [
  {
   "cell_type": "code",
   "execution_count": 1,
   "metadata": {},
   "outputs": [],
   "source": [
    "#Stop Words\n",
    "\n",
    "import spacy\n",
    "nlp=spacy.load(\"en_core_web_sm\")"
   ]
  },
  {
   "cell_type": "code",
   "execution_count": 7,
   "metadata": {},
   "outputs": [],
   "source": [
    "#Open the Stop-Words Text file\n",
    "text_file=open(\"stop-words2.txt\",\"r\")\n",
    "file_contents=text_file.read()\n",
    "text_file.close()"
   ]
  },
  {
   "cell_type": "code",
   "execution_count": 8,
   "metadata": {},
   "outputs": [
    {
     "name": "stdout",
     "output_type": "stream",
     "text": [
      "He determined to drop his litigation with the monastry, and relinguish his claims to the wood-cuting and fishery rihgts at once. He was the more ready to do this becuase the rights had become much less valuable, and he had indeed the vaguest idea where the wood and river in question were\n"
     ]
    }
   ],
   "source": [
    "print(file_contents)"
   ]
  },
  {
   "cell_type": "code",
   "execution_count": 9,
   "metadata": {},
   "outputs": [],
   "source": [
    "#Before doing NLP operations we need to convert into doc_object\n",
    "doc_object=nlp(file_contents)"
   ]
  },
  {
   "cell_type": "code",
   "execution_count": 11,
   "metadata": {},
   "outputs": [
    {
     "name": "stdout",
     "output_type": "stream",
     "text": [
      "He\n",
      "determined\n",
      "to\n",
      "drop\n",
      "his\n",
      "litigation\n",
      "with\n",
      "the\n",
      "monastry\n",
      ",\n",
      "and\n",
      "relinguish\n",
      "his\n",
      "claims\n",
      "to\n",
      "the\n",
      "wood\n",
      "-\n",
      "cuting\n",
      "and\n",
      "fishery\n",
      "rihgts\n",
      "at\n",
      "once\n",
      ".\n",
      "He\n",
      "was\n",
      "the\n",
      "more\n",
      "ready\n",
      "to\n",
      "do\n",
      "this\n",
      "becuase\n",
      "the\n",
      "rights\n",
      "had\n",
      "become\n",
      "much\n",
      "less\n",
      "valuable\n",
      ",\n",
      "and\n",
      "he\n",
      "had\n",
      "indeed\n",
      "the\n",
      "vaguest\n",
      "idea\n",
      "where\n",
      "the\n",
      "wood\n",
      "and\n",
      "river\n",
      "in\n",
      "question\n",
      "were\n"
     ]
    }
   ],
   "source": [
    "for token in doc_object:\n",
    "    print(token)"
   ]
  },
  {
   "cell_type": "code",
   "execution_count": 13,
   "metadata": {},
   "outputs": [
    {
     "data": {
      "text/plain": [
       "True"
      ]
     },
     "execution_count": 13,
     "metadata": {},
     "output_type": "execute_result"
    }
   ],
   "source": [
    "#Get the vocabulary to find a word is a stop word or not (determined is not stop word, and is a stop word)\n",
    "\n",
    "nlp.vocab[\"and\"].is_stop"
   ]
  },
  {
   "cell_type": "code",
   "execution_count": 15,
   "metadata": {},
   "outputs": [
    {
     "name": "stdout",
     "output_type": "stream",
     "text": [
      "{'afterwards', 'how', 'that', 'top', 'beside', 'can', 'ourselves', 'up', 'in', 'myself', 'hundred', 'whereupon', 'no', 'towards', 'which', 'but', 'through', 'him', 'the', 'yourselves', 'fifteen', 'sometimes', 'has', 'thereafter', 'we', 'whither', 'before', 'somehow', 'do', 'take', 'using', 'seem', 'out', 'less', 'see', 'since', 'themselves', 'four', 'enough', 'former', 'via', 'by', 'must', 'meanwhile', 'neither', 'side', 'whoever', 'besides', 'it', 'was', 'yourself', 'nevertheless', 'he', 'whence', 'behind', 'then', 'name', 'may', 'below', 'became', 'go', 'however', 'whose', 'along', 'become', 'without', 'another', 'at', 'also', 'these', 'among', 'their', 'same', 'one', 'latter', 'empty', 'five', 'toward', 'bottom', 'forty', 'your', 'them', 'anything', 'now', 'moreover', 'once', 'please', 'beforehand', 'have', 'any', 'around', 'is', 'over', 'our', 'until', 'hers', 'else', 'give', 'really', 'such', 'none', 'she', 'doing', 'two', 'rather', 'various', 'wherein', 'keep', 'as', 'say', 'more', 'last', 'whole', 'part', 'being', 'therefore', 'other', 'namely', 'put', 'would', 'its', 'least', 'me', 'whereby', 'ever', 'nothing', 'of', 'had', 'regarding', 'seemed', 'whenever', 'upon', 'yet', 'they', 'above', 'all', 'several', 'after', 'fifty', 'hence', 'serious', 'hereby', 'formerly', 'anyhow', 'everywhere', 'nor', 'between', 'or', 'are', 'been', 'becoming', 'itself', 'nine', 'often', 'thence', 'because', 'very', 'during', 'nobody', 'on', 'be', 'together', 'with', 'what', 'wherever', 'both', 'most', 'i', 'could', 'herself', 'his', 'make', 'otherwise', 'third', 'thereby', 'under', 'whether', 'hereupon', 'off', 'others', 'almost', 'except', 'still', 'an', 'did', 'again', 'and', 're', 'us', 'why', 'eight', 'her', 'whereas', 'who', 'quite', 'already', 'while', 'alone', 'there', 'mostly', 'just', 'somewhere', 'back', 'you', 'someone', 'anywhere', 'everything', 'perhaps', 'always', 'were', 'well', 'whatever', 'many', 'something', 'used', 'when', 'becomes', 'cannot', 'full', 'will', 'made', 'few', 'herein', 'nowhere', 'here', 'anyone', 'within', 'some', 'yours', 'should', 'than', 'amongst', 'sometime', 'my', 'does', 'where', 'across', 'onto', 'might', 'never', 'eleven', 'if', 'anyway', 'therein', 'seems', 'about', 'due', 'per', 'down', 'sixty', 'elsewhere', 'further', 'done', 'am', 'each', 'not', 'only', 'those', 'everyone', 'move', 'too', 'unless', 'next', 'although', 'indeed', 'noone', 'thereupon', 'to', 'seeming', 'a', 'either', 'every', 'thus', 'much', 'into', 'mine', 'for', 'three', 'even', 'though', 'whereafter', 'first', 'against', 'hereafter', 'beyond', 'latterly', 'own', 'show', 'ca', 'himself', 'this', 'ten', 'front', 'call', 'amount', 'ours', 'throughout', 'whom', 'six', 'so', 'thru', 'get', 'twelve', 'from', 'twenty'}\n"
     ]
    }
   ],
   "source": [
    "#No Of default stopwords in nlp\n",
    "len(nlp.Defaults.stop_words)\n",
    "\n",
    "#Print default stop words\n",
    "print(nlp.Defaults.stop_words)"
   ]
  },
  {
   "cell_type": "code",
   "execution_count": 16,
   "metadata": {},
   "outputs": [],
   "source": [
    "#Adding a stop word to nlp defaults dictionary\n",
    "nlp.Defaults.stop_words.add(\"He\")\n",
    "nlp.vocab[\"He\"].is_stop=True"
   ]
  },
  {
   "cell_type": "code",
   "execution_count": 17,
   "metadata": {},
   "outputs": [
    {
     "data": {
      "text/plain": [
       "True"
      ]
     },
     "execution_count": 17,
     "metadata": {},
     "output_type": "execute_result"
    }
   ],
   "source": [
    "nlp.vocab[\"He\"].is_stop"
   ]
  },
  {
   "cell_type": "code",
   "execution_count": 19,
   "metadata": {},
   "outputs": [],
   "source": [
    "#Adding multiple stop words to NLP defaults dictionary\n",
    "customised_stop_words=[\"btw\",\"Btw\",\"Lol\",\"lol\"]\n",
    "\n",
    "for word in customised_stop_words:\n",
    "    nlp.vocab[word].is_stop=True"
   ]
  },
  {
   "cell_type": "code",
   "execution_count": 20,
   "metadata": {},
   "outputs": [
    {
     "data": {
      "text/plain": [
       "True"
      ]
     },
     "execution_count": 20,
     "metadata": {},
     "output_type": "execute_result"
    }
   ],
   "source": [
    "nlp.vocab[\"Btw\"].is_stop"
   ]
  },
  {
   "cell_type": "markdown",
   "metadata": {},
   "source": [
    "## Rules Based Pattern"
   ]
  },
  {
   "cell_type": "code",
   "execution_count": 21,
   "metadata": {},
   "outputs": [],
   "source": [
    "#Open the new Stop-Words Text file\n",
    "text_file2=open(\"stop-words.txt\",\"r\")\n",
    "new_file_contents=text_file2.read()\n",
    "text_file2.close()"
   ]
  },
  {
   "cell_type": "code",
   "execution_count": 22,
   "metadata": {},
   "outputs": [
    {
     "name": "stdout",
     "output_type": "stream",
     "text": [
      "Words like \"a\" and \"the\" are called stop---words.\n",
      "Sometimes this can be written as stop-words or stopwords.\n",
      "Each stop word can be filtered from the text to be processed.\n",
      "spaCy holds a built-in list of some 305 English stop--words.\n"
     ]
    }
   ],
   "source": [
    "print(new_file_contents)"
   ]
  },
  {
   "cell_type": "code",
   "execution_count": 25,
   "metadata": {},
   "outputs": [],
   "source": [
    "#Before doing NLP operations we need to convert into doc_object\n",
    "doc_object2=nlp(new_file_contents)"
   ]
  },
  {
   "cell_type": "code",
   "execution_count": 26,
   "metadata": {},
   "outputs": [
    {
     "name": "stdout",
     "output_type": "stream",
     "text": [
      "Words\n",
      "like\n",
      "\"\n",
      "a\n",
      "\"\n",
      "and\n",
      "\"\n",
      "the\n",
      "\"\n",
      "are\n",
      "called\n",
      "stop\n",
      "---\n",
      "words\n",
      ".\n",
      "\n",
      "\n",
      "Sometimes\n",
      "this\n",
      "can\n",
      "be\n",
      "written\n",
      "as\n",
      "stop\n",
      "-\n",
      "words\n",
      "or\n",
      "stopwords\n",
      ".\n",
      "\n",
      "\n",
      "Each\n",
      "stop\n",
      "word\n",
      "can\n",
      "be\n",
      "filtered\n",
      "from\n",
      "the\n",
      "text\n",
      "to\n",
      "be\n",
      "processed\n",
      ".\n",
      "\n",
      "\n",
      "spaCy\n",
      "holds\n",
      "a\n",
      "built\n",
      "-\n",
      "in\n",
      "list\n",
      "of\n",
      "some\n",
      "305\n",
      "English\n",
      "stop\n",
      "--\n",
      "words\n",
      ".\n"
     ]
    }
   ],
   "source": [
    "#Print Tokens\n",
    "for token in doc_object2:\n",
    "    print(token)"
   ]
  },
  {
   "cell_type": "code",
   "execution_count": 46,
   "metadata": {},
   "outputs": [],
   "source": [
    "#Implement Matcher library\n",
    "from spacy.matcher import Matcher\n",
    "matcher=Matcher(nlp.vocab)"
   ]
  },
  {
   "cell_type": "code",
   "execution_count": 47,
   "metadata": {},
   "outputs": [],
   "source": [
    "#matcher tries to mach the patterns, as there are no patterns defined it will not return anyting\n",
    "token_matches=matcher(doc_object2)"
   ]
  },
  {
   "cell_type": "code",
   "execution_count": 48,
   "metadata": {},
   "outputs": [],
   "source": [
    "for token in token_matches:\n",
    "    print(token)"
   ]
  },
  {
   "cell_type": "code",
   "execution_count": 49,
   "metadata": {},
   "outputs": [],
   "source": [
    "#Create a token pattern first\n",
    "#Each patten needs a name and a pattern definition\n",
    "\n",
    "#match for \"stopword\"\n",
    "token_match1=[{\"LOWER\":\"stopword\"}]\n",
    "\n",
    "#match for \"stopwords\"\n",
    "token_match2=[{\"LOWER\":\"stopwords\"}]\n",
    "\n",
    "#match for \"stop-word\" (any puncuation - or * or & etc)\n",
    "token_match3=[{\"LOWER\":\"stop\"},{\"IS_PUNCT\":True},{\"LOWER\":\"words\"}]\n",
    "\n",
    "#match for \"stop word\" (space)\n",
    "token_match4=[{\"LOWER\":\"stop\"},{\"LOWER\":\"word\"}]\n",
    "\n",
    "#match for \"stop words\" (space)\n",
    "token_match5=[{\"LOWER\":\"stop\"},{\"LOWER\":\"words\"}]"
   ]
  },
  {
   "cell_type": "code",
   "execution_count": 50,
   "metadata": {},
   "outputs": [],
   "source": [
    "#Adding token rules pattern to the matcher\n",
    "\n",
    "matcher.add(\"StopWord\",None,token_match1,token_match2,token_match3,token_match4,token_match5)"
   ]
  },
  {
   "cell_type": "code",
   "execution_count": 51,
   "metadata": {},
   "outputs": [
    {
     "name": "stdout",
     "output_type": "stream",
     "text": [
      "(17470060577089942448, 11, 14)\n",
      "(17470060577089942448, 22, 25)\n",
      "(17470060577089942448, 26, 27)\n",
      "(17470060577089942448, 30, 32)\n",
      "(17470060577089942448, 54, 57)\n"
     ]
    }
   ],
   "source": [
    "#Rerun the matcher and show the contents \n",
    "token_matches=matcher(doc_object2)\n",
    "for token in token_matches:\n",
    "    print(token)"
   ]
  },
  {
   "cell_type": "code",
   "execution_count": 52,
   "metadata": {},
   "outputs": [
    {
     "data": {
      "text/plain": [
       "'StopWord'"
      ]
     },
     "execution_count": 52,
     "metadata": {},
     "output_type": "execute_result"
    }
   ],
   "source": [
    "#Print the Rule patern name using the matcher_id\n",
    "nlp.vocab.strings[17470060577089942448]"
   ]
  },
  {
   "cell_type": "code",
   "execution_count": 53,
   "metadata": {},
   "outputs": [
    {
     "name": "stdout",
     "output_type": "stream",
     "text": [
      "17470060577089942448 StopWord                     11         14 stop---words        \n",
      "17470060577089942448 StopWord                     22         25 stop-words          \n",
      "17470060577089942448 StopWord                     26         27 stopwords           \n",
      "17470060577089942448 StopWord                     30         32 stop word           \n",
      "17470060577089942448 StopWord                     54         57 stop--words         \n"
     ]
    }
   ],
   "source": [
    "#Get the Matched Words\n",
    "for match_id,start,end in token_matches:\n",
    "    matcher_id=nlp.vocab.strings[match_id]\n",
    "    matched_word=doc_object2[start:end]\n",
    "    print(f\"{match_id:{20}} {matcher_id:{20}} {start:{10}} {end:{10}} {matched_word.text:{20}}\")"
   ]
  },
  {
   "cell_type": "markdown",
   "metadata": {},
   "source": [
    "## Phrase Matching"
   ]
  },
  {
   "cell_type": "code",
   "execution_count": 66,
   "metadata": {},
   "outputs": [],
   "source": [
    "#Phrase matching\n",
    "from spacy.matcher import PhraseMatcher\n",
    "matcher=PhraseMatcher(nlp.vocab)"
   ]
  },
  {
   "cell_type": "code",
   "execution_count": 67,
   "metadata": {},
   "outputs": [],
   "source": [
    "#Open the new Stop-Words Text file\n",
    "#text_file3=open(\"NLP.txt\",\"r\")\n",
    "#file3_contents=text_file3.read()\n",
    "#text_file3.close()\n",
    "\n",
    "with open(\"NLP.txt\", encoding=\"utf8\") as text_file3:\n",
    "    doc_object3=nlp(text_file3.read())"
   ]
  },
  {
   "cell_type": "code",
   "execution_count": 68,
   "metadata": {},
   "outputs": [
    {
     "data": {
      "text/plain": [
       "The history of natural language processing (NLP) generally started in the 1950s, although work can be found from earlier periods. In 1950, Alan Turing published an article titled \"Computing Machinery and Intelligence\" which proposed what is now called the Turing test as a criterion of intelligence[clarification needed].\n",
       "\n",
       "The Georgetown experiment in 1954 involved fully automatic translation of more than sixty Russian sentences into English. The authors claimed that within three or five years, machine translation would be a solved problem.[2] However, real progress was much slower, and after the ALPAC report in 1966, which found that ten-year-long research had failed to fulfill the expectations, funding for machine translation was dramatically reduced. Little further research in machine translation was conducted until the late 1980s, when the first statistical machine translation systems were developed.\n",
       "\n",
       "Some notably successful natural language processing systems developed in the 1960s were SHRDLU, a natural language system working in restricted \"blocks worlds\" with restricted vocabularies, and ELIZA, a simulation of a Rogerian psychotherapist, written by Joseph Weizenbaum between 1964 and 1966. Using almost no information about human thought or emotion, ELIZA sometimes provided a startlingly human-like interaction. When the \"patient\" exceeded the very small knowledge base, ELIZA might provide a generic response, for example, responding to \"My head hurts\" with \"Why do you say your head hurts?\".\n",
       "\n",
       "During the 1970s, many programmers began to write \"conceptual ontologies\", which structured real-world information into computer-understandable data. Examples are MARGIE (Schank, 1975), SAM (Cullingford, 1978), PAM (Wilensky, 1978), TaleSpin (Meehan, 1976), QUALM (Lehnert, 1977), Politics (Carbonell, 1979), and Plot Units (Lehnert 1981). During this time, many chatterbots were written including PARRY, Racter, and Jabberwacky.\n",
       "\n",
       "Up to the 1980s, most natural language processing systems were based on complex sets of hand-written rules. Starting in the late 1980s, however, there was a revolution in natural language processing with the introduction of machine learning algorithms for language processing. This was due to both the steady increase in computational power (see Moore's law) and the gradual lessening of the dominance of Chomskyan theories of linguistics (e.g. transformational grammar), whose theoretical underpinnings discouraged the sort of corpus linguistics that underlies the machine-learning approach to language processing.[3] Some of the earliest-used machine learning algorithms, such as decision trees, produced systems of hard if-then rules similar to existing hand-written rules. However, part-of-speech tagging introduced the use of hidden Markov models to natural language processing, and increasingly, research has focused on statistical models, which make soft, probabilistic decisions based on attaching real-valued weights to the features making up the input data. The cache language models upon which many speech recognition systems now rely are examples of such statistical models. Such models are generally more robust when given unfamiliar input, especially input that contains errors (as is very common for real-world data), and produce more reliable results when integrated into a larger system comprising multiple subtasks.\n",
       "\n",
       "Many of the notable early successes occurred in the field of machine translation, due especially to work at IBM Research, where successively more complicated statistical models were developed. These systems were able to take advantage of existing multilingual textual corpora that had been produced by the Parliament of Canada and the European Union as a result of laws calling for the translation of all governmental proceedings into all official languages of the corresponding systems of government. However, most other systems depended on corpora specifically developed for the tasks implemented by these systems, which was (and often continues to be) a major limitation in the success of these systems. As a result, a great deal of research has gone into methods of more effectively learning from limited amounts of data.\n",
       "\n",
       "Recent research has increasingly focused on unsupervised and semi-supervised learning algorithms. Such algorithms are able to learn from data that has not been hand-annotated with the desired answers, or using a combination of annotated and non-annotated data. Generally, this task is much more difficult than supervised learning, and typically produces less accurate results for a given amount of input data. However, there is an enormous amount of non-annotated data available (including, among other things, the entire content of the World Wide Web), which can often make up for the inferior results if the algorithm used has a low enough time complexity to be practical.\n",
       "\n",
       "In the 2010s, representation learning and deep neural network-style machine learning methods became widespread in natural language processing, due in part to a flurry of results showing that such techniques[4][5] can achieve state-of-the-art results in many natural language tasks, for example in language modeling,[6] parsing,[7][8] and many others. Popular techniques include the use of word embeddings to capture semantic properties of words, and an increase in end-to-end learning of a higher-level task (e.g., question answering) instead of relying on a pipeline of separate intermediate tasks (e.g., part-of-speech tagging and dependency parsing). In some areas, this shift has entailed substantial changes in how NLP systems are designed, such that deep neural network-based approaches may be viewed as a new paradigm distinct from statistical natural language processing. For instance, the term neural machine translation (NMT) emphasizes the fact that deep learning-based approaches to machine translation directly learn sequence-to-sequence transformations, obviating the need for intermediate steps such as word alignment and language modeling that were used in statistical machine translation (SMT)."
      ]
     },
     "execution_count": 68,
     "metadata": {},
     "output_type": "execute_result"
    }
   ],
   "source": [
    "doc_object3"
   ]
  },
  {
   "cell_type": "code",
   "execution_count": 69,
   "metadata": {},
   "outputs": [
    {
     "data": {
      "text/plain": [
       "['natural language processing',\n",
       " 'machine learing',\n",
       " 'supervised learning',\n",
       " 'machine translation']"
      ]
     },
     "execution_count": 69,
     "metadata": {},
     "output_type": "execute_result"
    }
   ],
   "source": [
    "#initialize the phrases to be matched\n",
    "phrase_list=[\"natural language processing\",\"machine learing\",\"supervised learning\",\"machine translation\"]\n",
    "\n",
    "phrase_list"
   ]
  },
  {
   "cell_type": "code",
   "execution_count": 70,
   "metadata": {},
   "outputs": [],
   "source": [
    "#Converting phrases in phrases list to doc object\n",
    "#phrase_patterns=[]\n",
    "#for word in phrase_list:\n",
    "#    phrase_patterns.append(nlp.make_doc(word))\n",
    "\n",
    "phrase_patterns = [nlp.make_doc(word) for word in phrase_list]"
   ]
  },
  {
   "cell_type": "code",
   "execution_count": 71,
   "metadata": {},
   "outputs": [
    {
     "name": "stdout",
     "output_type": "stream",
     "text": [
      "[natural language processing, machine learing, supervised learning, machine translation]\n"
     ]
    }
   ],
   "source": [
    "print(phrase_patterns)"
   ]
  },
  {
   "cell_type": "code",
   "execution_count": 72,
   "metadata": {},
   "outputs": [],
   "source": [
    "#Adding phrase pattern to the matcher\n",
    "\n",
    "matches=matcher.add(\"NLP\",None,*phrase_patterns) #asterisk represents document object"
   ]
  },
  {
   "cell_type": "code",
   "execution_count": 75,
   "metadata": {},
   "outputs": [],
   "source": [
    "#Get matched results\n",
    "matches=matcher(doc_object3)"
   ]
  },
  {
   "cell_type": "code",
   "execution_count": 76,
   "metadata": {},
   "outputs": [
    {
     "data": {
      "text/plain": [
       "[(15832915187156881108, 3, 6),\n",
       " (15832915187156881108, 85, 87),\n",
       " (15832915187156881108, 127, 129),\n",
       " (15832915187156881108, 137, 139),\n",
       " (15832915187156881108, 150, 152),\n",
       " (15832915187156881108, 160, 163),\n",
       " (15832915187156881108, 368, 371),\n",
       " (15832915187156881108, 396, 399),\n",
       " (15832915187156881108, 512, 515),\n",
       " (15832915187156881108, 622, 624),\n",
       " (15832915187156881108, 762, 764),\n",
       " (15832915187156881108, 807, 809),\n",
       " (15832915187156881108, 896, 899),\n",
       " (15832915187156881108, 1037, 1040),\n",
       " (15832915187156881108, 1047, 1049),\n",
       " (15832915187156881108, 1062, 1064),\n",
       " (15832915187156881108, 1091, 1093)]"
      ]
     },
     "execution_count": 76,
     "metadata": {},
     "output_type": "execute_result"
    }
   ],
   "source": [
    "matches"
   ]
  },
  {
   "cell_type": "code",
   "execution_count": 78,
   "metadata": {},
   "outputs": [
    {
     "name": "stdout",
     "output_type": "stream",
     "text": [
      "15832915187156881108 NLP                           3          6 natural language processing\n",
      "15832915187156881108 NLP                          85         87 machine translation \n",
      "15832915187156881108 NLP                         127        129 machine translation \n",
      "15832915187156881108 NLP                         137        139 machine translation \n",
      "15832915187156881108 NLP                         150        152 machine translation \n",
      "15832915187156881108 NLP                         160        163 natural language processing\n",
      "15832915187156881108 NLP                         368        371 natural language processing\n",
      "15832915187156881108 NLP                         396        399 natural language processing\n",
      "15832915187156881108 NLP                         512        515 natural language processing\n",
      "15832915187156881108 NLP                         622        624 machine translation \n",
      "15832915187156881108 NLP                         762        764 supervised learning \n",
      "15832915187156881108 NLP                         807        809 supervised learning \n",
      "15832915187156881108 NLP                         896        899 natural language processing\n",
      "15832915187156881108 NLP                        1037       1040 natural language processing\n",
      "15832915187156881108 NLP                        1047       1049 machine translation \n",
      "15832915187156881108 NLP                        1062       1064 machine translation \n",
      "15832915187156881108 NLP                        1091       1093 machine translation \n"
     ]
    }
   ],
   "source": [
    "#Get the Matched Words\n",
    "for match_id,start,end in matches:\n",
    "    matcher_id=nlp.vocab.strings[match_id]\n",
    "    matched_word=doc_object3[start:end]\n",
    "    print(f\"{match_id:{20}} {matcher_id:{20}} {start:{10}} {end:{10}} {matched_word.text:{20}}\")"
   ]
  }
 ],
 "metadata": {
  "kernelspec": {
   "display_name": "Python 3",
   "language": "python",
   "name": "python3"
  },
  "language_info": {
   "codemirror_mode": {
    "name": "ipython",
    "version": 3
   },
   "file_extension": ".py",
   "mimetype": "text/x-python",
   "name": "python",
   "nbconvert_exporter": "python",
   "pygments_lexer": "ipython3",
   "version": "3.7.6"
  }
 },
 "nbformat": 4,
 "nbformat_minor": 4
}
